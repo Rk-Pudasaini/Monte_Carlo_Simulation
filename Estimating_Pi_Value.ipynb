{
  "nbformat": 4,
  "nbformat_minor": 0,
  "metadata": {
    "colab": {
      "provenance": [],
      "authorship_tag": "ABX9TyPLP09lWkykA+QAM5/c4MH6",
      "include_colab_link": true
    },
    "kernelspec": {
      "name": "python3",
      "display_name": "Python 3"
    },
    "language_info": {
      "name": "python"
    }
  },
  "cells": [
    {
      "cell_type": "markdown",
      "metadata": {
        "id": "view-in-github",
        "colab_type": "text"
      },
      "source": [
        "<a href=\"https://colab.research.google.com/github/Rk-Pudasaini/Monte_Carlo_Simulation/blob/main/Estimating_Pi_Value.ipynb\" target=\"_parent\"><img src=\"https://colab.research.google.com/assets/colab-badge.svg\" alt=\"Open In Colab\"/></a>"
      ]
    },
    {
      "cell_type": "markdown",
      "source": [
        "# Estimation of Pi Value Using Monte Carlo"
      ],
      "metadata": {
        "id": "OmWdqqxXScHC"
      }
    },
    {
      "cell_type": "markdown",
      "source": [
        "\n",
        "Estimating the value of $\\pi$ using Monte Carlo simulation involves randomly generating points within a square and counting how many fall within a quarter circle inscribed within that square. The ratio of the number of points inside the quarter circle to the total number of points generated is proportional to the ratio of the areas of the quarter circle to the square. Since the area of the quarter circle is $\\frac{\\pi r^2}{4}$ and the area of the square is $r^2$, where $r$ is the radius of the circle, we can estimate the value of $\\pi$ using the formula:\n",
        "\n",
        "π ≈ 4 × $(\\frac{\\text {Number of points inside the quarter circle }}{\\text {Total No of Points}})$\n"
      ],
      "metadata": {
        "id": "Q5Rm14T_ShD3"
      }
    },
    {
      "cell_type": "markdown",
      "source": [
        "## Algorithm\n",
        "\n",
        "1. Initialize circle_points, square_points, and interval to 0.\n",
        "2. Set NO_OF_ITERATIONS to the desired number of iterations.\n",
        "3. For i from 1 to NO_OF_ITERATIONS:\n",
        "      4. Generate a random number x between -1 and 1.\n",
        "      5. Generate a random number y between -1 and 1.\n",
        "      6. Calculate d = x*x + y*y.\n",
        "      7. If d <= 1:\n",
        "            8. Increment circle_points by 1.\n",
        "      9. Increment square_points by 1.\n",
        "      10. Increment interval by 1.\n",
        "11. Calculate pi = 4 * (circle_points / square_points).\n",
        "12. Terminate.\n"
      ],
      "metadata": {
        "id": "zMk3YMcFW2Gq"
      }
    },
    {
      "cell_type": "code",
      "execution_count": 8,
      "metadata": {
        "colab": {
          "base_uri": "https://localhost:8080/"
        },
        "id": "hpfsNnaVRynp",
        "outputId": "dd2c044d-990e-4b3a-d591-a6f45104ee53"
      },
      "outputs": [
        {
          "output_type": "stream",
          "name": "stdout",
          "text": [
            "Estimated value of Pi: 3.1418856\n"
          ]
        }
      ],
      "source": [
        "import random\n",
        "\n",
        "# Define the number of iterations\n",
        "NOOFITERATIONS = 10000000\n",
        "\n",
        "# Initialize circle points, square points, and interval to 0\n",
        "circle_points = 0\n",
        "square_points = 0\n",
        "interval = 0\n",
        "\n",
        "# Perform the iterations\n",
        "for _ in range(NOOFITERATIONS):\n",
        "    # Generate random points within the square [-1, 1] x [-1, 1]\n",
        "    x = random.uniform(-1, 1)\n",
        "    y = random.uniform(-1, 1)\n",
        "\n",
        "    # Calculate the distance squared from the origin\n",
        "    d_squared = x**2 + y**2\n",
        "\n",
        "    # Increment square points\n",
        "    square_points += 1\n",
        "\n",
        "    # Check if the point falls within the unit circle\n",
        "    if d_squared <= 1:\n",
        "        # Increment circle points if it falls within the circle\n",
        "        circle_points += 1\n",
        "\n",
        "    # Increment interval\n",
        "    interval += 1\n",
        "\n",
        "# Calculate Pi using the ratio of circle points to square points\n",
        "pi_estimate = 4 * (circle_points / square_points)\n",
        "\n",
        "# Display the estimated value of Pi\n",
        "print(\"Estimated value of Pi:\", pi_estimate)\n"
      ]
    },
    {
      "cell_type": "markdown",
      "source": [
        "# Using the Function"
      ],
      "metadata": {
        "id": "QAZThNfOYKQd"
      }
    },
    {
      "cell_type": "code",
      "source": [
        "def estimate_pi(num_iterations):\n",
        "    circle_points = 0\n",
        "    square_points = 0\n",
        "\n",
        "    for _ in range(num_iterations):\n",
        "        # Generate random points within the square\n",
        "        x = random.uniform(-1, 1)\n",
        "        y = random.uniform(-1, 1)\n",
        "\n",
        "        # Calculate distance from origin\n",
        "        d = x**2 + y**2\n",
        "\n",
        "        # Check if the point lies within the circle\n",
        "        if d <= 1:\n",
        "            circle_points += 1\n",
        "\n",
        "        square_points += 1\n",
        "\n",
        "    # Calculate the estimated value of π\n",
        "    pi_estimate = 4 * (circle_points / square_points)\n",
        "\n",
        "    return pi_estimate\n",
        "\n",
        "# Define the number of iterations\n",
        "NO_OF_ITERATIONS = 1000000\n",
        "\n",
        "# Estimate π using Monte Carlo simulation\n",
        "pi_estimate = estimate_pi(NO_OF_ITERATIONS)\n",
        "print(\"Estimated value of π:\", pi_estimate)\n"
      ],
      "metadata": {
        "colab": {
          "base_uri": "https://localhost:8080/"
        },
        "id": "dG7klG5kX14T",
        "outputId": "82f2805c-87d5-47b5-d664-38d9aaa4f1a4"
      },
      "execution_count": 7,
      "outputs": [
        {
          "output_type": "stream",
          "name": "stdout",
          "text": [
            "Estimated value of π: 3.140464\n"
          ]
        }
      ]
    },
    {
      "cell_type": "code",
      "source": [],
      "metadata": {
        "id": "lu3QRyajYQ0R"
      },
      "execution_count": null,
      "outputs": []
    }
  ]
}
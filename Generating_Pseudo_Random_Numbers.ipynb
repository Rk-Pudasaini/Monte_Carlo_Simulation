{
  "nbformat": 4,
  "nbformat_minor": 0,
  "metadata": {
    "colab": {
      "provenance": [],
      "authorship_tag": "ABX9TyObFTcktC3Ksw1h7wH8SZ4J",
      "include_colab_link": true
    },
    "kernelspec": {
      "name": "python3",
      "display_name": "Python 3"
    },
    "language_info": {
      "name": "python"
    }
  },
  "cells": [
    {
      "cell_type": "markdown",
      "metadata": {
        "id": "view-in-github",
        "colab_type": "text"
      },
      "source": [
        "<a href=\"https://colab.research.google.com/github/Rk-Pudasaini/Monte_Carlo_Simulation/blob/main/Generating_Pseudo_Random_Numbers.ipynb\" target=\"_parent\"><img src=\"https://colab.research.google.com/assets/colab-badge.svg\" alt=\"Open In Colab\"/></a>"
      ]
    },
    {
      "cell_type": "markdown",
      "source": [
        "# Different Methods of Generating Random Numbers"
      ],
      "metadata": {
        "id": "UPsnaESYlUXK"
      }
    },
    {
      "cell_type": "markdown",
      "source": [
        "# Algorithm to generate Pseudo Random Numbers - Congruential method\n",
        "1. Start\n",
        "2. Set count 0\n",
        "3. Define seed ( A large number)\n",
        "4. start loop (while or any other you like)\n",
        "5. Calculate ran using ran = (seed* 16807)/(2**31-1)\n",
        "6. Set seed equal to ran for the next iteration of the loop\n",
        "7. Print random number you generated\n",
        "8. Increase count by 1\n",
        "9. End program"
      ],
      "metadata": {
        "id": "ayE1DMC4mhE7"
      }
    },
    {
      "cell_type": "markdown",
      "source": [
        "# Function to Generate Random Numbers"
      ],
      "metadata": {
        "id": "rN6x5Uz8mKcu"
      }
    },
    {
      "cell_type": "code",
      "source": [
        "# Functions to generate random numbers using the above method\n",
        "def generate_random_numbers (seed, number_of_items):\n",
        "  count = 0\n",
        "  random_numbers = []   #list to store random numbers\n",
        "\n",
        "  while count < number_of_items:  #loop\n",
        "    ran = (16807 * seed) % (2**31 - 1)  # generate random numbers using formula\n",
        "    seed = ran\n",
        "    x = ran / (2**31 - 1)  #normalize\n",
        "    random_numbers.append(x)\n",
        "    count += 1\n",
        "\n",
        "  return random_numbers"
      ],
      "metadata": {
        "id": "Rf4uZv6bmOvL"
      },
      "execution_count": 1,
      "outputs": []
    },
    {
      "cell_type": "code",
      "source": [
        "random_number_list = generate_random_numbers(157392, 10)\n",
        "random_number_list"
      ],
      "metadata": {
        "colab": {
          "base_uri": "https://localhost:8080/"
        },
        "id": "tEVEbflVn4az",
        "outputId": "f5527c69-9355-4361-c692-d7bb9ba9c306"
      },
      "execution_count": 4,
      "outputs": [
        {
          "output_type": "execute_result",
          "data": {
            "text/plain": [
              "[0.23180791047951574,\n",
              " 0.9955514292211977,\n",
              " 0.232870920669693,\n",
              " 0.861563695530204,\n",
              " 0.3010307761379661,\n",
              " 0.4242545507961207,\n",
              " 0.4462352304003365,\n",
              " 0.8755173384563613,\n",
              " 0.81990743606347,\n",
              " 0.1842779187412364]"
            ]
          },
          "metadata": {},
          "execution_count": 4
        }
      ]
    }
  ]
}